{
 "cells": [
  {
   "cell_type": "code",
   "execution_count": null,
   "id": "a73776cb-bac6-422f-bf66-43d4701cc5a1",
   "metadata": {},
   "outputs": [],
   "source": [
    "# -*- coding: utf-8 -*-\n",
    "\"\"\"\n",
    "   Introduction to Deep Learning\n",
    "   Assignment 3: Sentiment Classification of Tweets on a Recurrent Neural Network using Pretrained Embeddings\n",
    "\n",
    "   Hande Celikkanat\n",
    "\n",
    "   Credit: Data preparation pipeline adopted from https://medium.com/@sonicboom8/sentiment-analysis-torchtext-55fb57b1fab8\n",
    "\"\"\""
   ]
  },
  {
   "cell_type": "code",
   "execution_count": null,
   "id": "00bcc3f6-64cb-445b-8b3d-b9421eb1080e",
   "metadata": {},
   "outputs": [],
   "source": [
    "import sys\n",
    "import os\n",
    "import torch\n",
    "import torch.nn as nn\n",
    "import torch.nn.functional as F\n",
    "import torch.optim as optim\n",
    "import torchtext\n",
    "import spacy\n",
    "import regex as re\n",
    "import time\n",
    "from tqdm import tqdm\n",
    "from torchtext import vocab\n",
    "\n",
    "import data"
   ]
  },
  {
   "cell_type": "code",
   "execution_count": null,
   "id": "9ce1440d-7b7d-44ad-b215-cf80e273c33b",
   "metadata": {},
   "outputs": [],
   "source": [
    "# Constants - Add here as you wish\n",
    "N_EPOCHS = 5\n",
    "EMBEDDING_DIM = 200\n",
    "\n",
    "TRAIN_FILE = '../data/sent140.train.mini.csv'\n",
    "DEV_FILE   = '../data/sent140.dev.csv'\n",
    "TEST_FILE  = '../data/sent140.test.csv'\n",
    "\n",
    "TRAIN_BS = 32\n",
    "DEV_BS   = 32\n",
    "TEST_BS  = 32"
   ]
  },
  {
   "cell_type": "code",
   "execution_count": null,
   "id": "026d06d6-d0b1-4b86-918e-a4345396eeaa",
   "metadata": {},
   "outputs": [],
   "source": [
    "# Auxilary functions for data preparation\n",
    "tok = spacy.load('en_core_web_sm',disable=['parser', 'tagger', 'ner'])\n",
    "def tokenizer(s): \n",
    "    return [w.text.lower() for w in tok(tweet_clean(s))]\n",
    "\n",
    "def tweet_clean(text):\n",
    "    text = re.sub(r'[^A-Za-z0-9]+', ' ', text) # remove non alphanumeric character\n",
    "    text = re.sub(r'https?:/\\/\\S+', ' ', text) # remove links\n",
    "    return text.strip()"
   ]
  },
  {
   "cell_type": "code",
   "execution_count": null,
   "id": "1ec1859b-a005-4658-940d-b715db6cee1a",
   "metadata": {},
   "outputs": [],
   "source": [
    "# Evaluation functions\n",
    "def evaluate(model, loader, criterion):    \n",
    "    epoch_loss = 0\n",
    "    epoch_acc = 0\n",
    "    \n",
    "    with torch.no_grad():\n",
    "        for batch in loader:\n",
    "            #WRITE CODE HERE\n",
    "            pass\n",
    "\n",
    "    return epoch_loss / len(loader), epoch_acc / len(loader)"
   ]
  },
  {
   "cell_type": "code",
   "execution_count": null,
   "id": "030fd0f6-4f64-48a7-ade0-297b5f57043f",
   "metadata": {},
   "outputs": [],
   "source": [
    "# Utility\n",
    "def epoch_time(start_time, end_time):\n",
    "    elapsed_time = end_time - start_time\n",
    "    elapsed_mins = int(elapsed_time / 60)\n",
    "    elapsed_secs = int(elapsed_time - (elapsed_mins * 60))\n",
    "    return elapsed_mins, elapsed_secs"
   ]
  },
  {
   "cell_type": "code",
   "execution_count": null,
   "id": "aa84b7da-c414-45ed-96f5-14875a2fec4d",
   "metadata": {},
   "outputs": [],
   "source": [
    "# Recurrent Network\n",
    "class RNN(nn.Module):\n",
    "    def __init__(self):\n",
    "        super().__init__()\n",
    "        #WRITE CODE HERE\n",
    "\n",
    "    def forward(self, inputs, lengths=None):\n",
    "        #WRITE CODE HERE\n",
    "        return 0 "
   ]
  },
  {
   "cell_type": "code",
   "execution_count": null,
   "id": "ee9e612d-817e-4f61-9602-f2a5a79ce5a2",
   "metadata": {},
   "outputs": [],
   "source": [
    "# Setup\n",
    "\n",
    "device = 'cuda' if torch.cuda.is_available() else 'cpu'\n",
    "\n",
    "print('Prepariong dataset')\n",
    "train_loader, dev_loader, test_loader, glove_embeddings = data.get_dataset(\n",
    "        tokenizer,\n",
    "        TRAIN_FILE,\n",
    "        DEV_FILE,\n",
    "        TEST_FILE,\n",
    "        TRAIN_BS,\n",
    "        DEV_BS,\n",
    "        TEST_BS,\n",
    "        EMBEDDING_DIM) \n",
    "\n",
    "model = None\n",
    "\n",
    "optimizer = None\n",
    "criterion = None"
   ]
  },
  {
   "cell_type": "code",
   "execution_count": null,
   "id": "3abdf31e-72de-4975-b41b-74780387765b",
   "metadata": {},
   "outputs": [],
   "source": [
    "# --- Train Loop ---\n",
    "print('Training')\n",
    "for epoch in range(N_EPOCHS):\n",
    "    print(f'Epoch {epoch}')\n",
    "    start_time = time.time()\n",
    "    epoch_loss = 0\n",
    "    epoch_acc = 0\n",
    "    \n",
    "    for batch in train_loader:\n",
    "    #WRITE CODE HERE\n",
    "        pass\n",
    "\n",
    "    train_loss, train_acc = (epoch_loss / len(train_loader), epoch_acc / len(train_loader)) \n",
    "    valid_loss, valid_acc = evaluate(model, dev_loader, criterion)\n",
    "    \n",
    "    end_time = time.time()\n",
    "    epoch_mins, epoch_secs = epoch_time(start_time, end_time)\n",
    "    \n",
    "    print(f'Epoch: {epoch+1:02} | Epoch Time: {epoch_mins}m {epoch_secs}s')\n",
    "    print(f'\\tTrain Loss: {train_loss:.3f} | Train Acc: {train_acc*100:.2f}%')\n",
    "    print(f'\\t Val. Loss: {valid_loss:.3f} |  Val. Acc: {valid_acc*100:.2f}%')"
   ]
  },
  {
   "cell_type": "code",
   "execution_count": null,
   "id": "c77c2be5-49f9-4523-b5be-701715d1ce04",
   "metadata": {},
   "outputs": [],
   "source": [
    "#--- Test ---\n",
    "print('Testing')\n",
    "with torch.no_grad():\n",
    "    # Here test your model using the test_loader\n",
    "    pass"
   ]
  }
 ],
 "metadata": {
  "kernelspec": {
   "display_name": "Python 3 (ipykernel)",
   "language": "python",
   "name": "python3"
  },
  "language_info": {
   "codemirror_mode": {
    "name": "ipython",
    "version": 3
   },
   "file_extension": ".py",
   "mimetype": "text/x-python",
   "name": "python",
   "nbconvert_exporter": "python",
   "pygments_lexer": "ipython3",
   "version": "3.8.10"
  }
 },
 "nbformat": 4,
 "nbformat_minor": 5
}
